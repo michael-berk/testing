{
 "cells": [
  {
   "cell_type": "code",
   "execution_count": 0,
   "metadata": {
    "application/vnd.databricks.v1+cell": {
     "cellMetadata": {},
     "inputWidgets": {},
     "nuid": "4972c54b-d971-4ed6-88b7-016d408f0069",
     "showTitle": false,
     "title": ""
    }
   },
   "outputs": [],
   "source": [
    "print('123')"
   ]
  }
 ],
 "metadata": {
  "application/vnd.databricks.v1+notebook": {
   "dashboards": [],
   "language": "python",
   "notebookMetadata": {
    "pythonIndentUnit": 2
   },
   "notebookName": "test_notebook",
   "notebookOrigID": 2963708295115373,
   "widgets": {}
  }
 },
 "nbformat": 4,
 "nbformat_minor": 0
}
